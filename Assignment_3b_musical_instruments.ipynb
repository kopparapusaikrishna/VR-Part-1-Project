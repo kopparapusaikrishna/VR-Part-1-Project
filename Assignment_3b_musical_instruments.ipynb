{
 "cells": [
  {
   "cell_type": "code",
   "execution_count": 1,
   "id": "e8ad5037",
   "metadata": {},
   "outputs": [],
   "source": [
    "import os \n",
    "import torch \n",
    "import torch.nn \n",
    "import torchvision.models as models\n",
    "import torchvision.transforms as transforms\n",
    "import torch.nn.functional as F \n",
    "import torchvision.utils as utils\n",
    "import cv2 \n",
    "import matplotlib.pyplot as plt\n",
    "import numpy as np \n",
    "import pandas as pd\n",
    "from PIL import Image\n",
    "import argparse"
   ]
  },
  {
   "cell_type": "code",
   "execution_count": 2,
   "id": "23d167ad",
   "metadata": {},
   "outputs": [],
   "source": [
    "main_df = pd.read_csv(\"archive/instruments.csv\")"
   ]
  },
  {
   "cell_type": "code",
   "execution_count": 3,
   "id": "de8097b9",
   "metadata": {},
   "outputs": [],
   "source": [
    "df1 = main_df[main_df['data set'] == 'test']\n",
    "test_df = df1[df1['labels'] != 'piano']\n",
    "df2 = main_df[main_df['data set'] == 'train']\n",
    "train_df = df2[df2['labels'] != 'piano']"
   ]
  },
  {
   "cell_type": "code",
   "execution_count": 4,
   "id": "b683b138",
   "metadata": {},
   "outputs": [],
   "source": [
    "test_labels = test_df['labels']\n",
    "train_labels = train_df['labels']"
   ]
  },
  {
   "cell_type": "code",
   "execution_count": 5,
   "id": "cc78446d",
   "metadata": {},
   "outputs": [
    {
     "data": {
      "text/html": [
       "<div>\n",
       "<style scoped>\n",
       "    .dataframe tbody tr th:only-of-type {\n",
       "        vertical-align: middle;\n",
       "    }\n",
       "\n",
       "    .dataframe tbody tr th {\n",
       "        vertical-align: top;\n",
       "    }\n",
       "\n",
       "    .dataframe thead th {\n",
       "        text-align: right;\n",
       "    }\n",
       "</style>\n",
       "<table border=\"1\" class=\"dataframe\">\n",
       "  <thead>\n",
       "    <tr style=\"text-align: right;\">\n",
       "      <th></th>\n",
       "      <th>filepaths</th>\n",
       "      <th>labels</th>\n",
       "      <th>data set</th>\n",
       "    </tr>\n",
       "  </thead>\n",
       "  <tbody>\n",
       "    <tr>\n",
       "      <th>0</th>\n",
       "      <td>train/acordian/001.jpg</td>\n",
       "      <td>acordian</td>\n",
       "      <td>train</td>\n",
       "    </tr>\n",
       "    <tr>\n",
       "      <th>1</th>\n",
       "      <td>train/acordian/002.jpg</td>\n",
       "      <td>acordian</td>\n",
       "      <td>train</td>\n",
       "    </tr>\n",
       "    <tr>\n",
       "      <th>2</th>\n",
       "      <td>train/acordian/003.jpg</td>\n",
       "      <td>acordian</td>\n",
       "      <td>train</td>\n",
       "    </tr>\n",
       "    <tr>\n",
       "      <th>3</th>\n",
       "      <td>train/acordian/004.jpg</td>\n",
       "      <td>acordian</td>\n",
       "      <td>train</td>\n",
       "    </tr>\n",
       "    <tr>\n",
       "      <th>4</th>\n",
       "      <td>train/acordian/005.jpg</td>\n",
       "      <td>acordian</td>\n",
       "      <td>train</td>\n",
       "    </tr>\n",
       "  </tbody>\n",
       "</table>\n",
       "</div>"
      ],
      "text/plain": [
       "                filepaths    labels data set\n",
       "0  train/acordian/001.jpg  acordian    train\n",
       "1  train/acordian/002.jpg  acordian    train\n",
       "2  train/acordian/003.jpg  acordian    train\n",
       "3  train/acordian/004.jpg  acordian    train\n",
       "4  train/acordian/005.jpg  acordian    train"
      ]
     },
     "execution_count": 5,
     "metadata": {},
     "output_type": "execute_result"
    }
   ],
   "source": [
    "train_df.head()"
   ]
  },
  {
   "cell_type": "code",
   "execution_count": 6,
   "id": "7ff39caf",
   "metadata": {
    "scrolled": true
   },
   "outputs": [
    {
     "data": {
      "text/html": [
       "<div>\n",
       "<style scoped>\n",
       "    .dataframe tbody tr th:only-of-type {\n",
       "        vertical-align: middle;\n",
       "    }\n",
       "\n",
       "    .dataframe tbody tr th {\n",
       "        vertical-align: top;\n",
       "    }\n",
       "\n",
       "    .dataframe thead th {\n",
       "        text-align: right;\n",
       "    }\n",
       "</style>\n",
       "<table border=\"1\" class=\"dataframe\">\n",
       "  <thead>\n",
       "    <tr style=\"text-align: right;\">\n",
       "      <th></th>\n",
       "      <th>filepaths</th>\n",
       "      <th>labels</th>\n",
       "      <th>data set</th>\n",
       "    </tr>\n",
       "  </thead>\n",
       "  <tbody>\n",
       "    <tr>\n",
       "      <th>4793</th>\n",
       "      <td>test/acordian/1.jpg</td>\n",
       "      <td>acordian</td>\n",
       "      <td>test</td>\n",
       "    </tr>\n",
       "    <tr>\n",
       "      <th>4794</th>\n",
       "      <td>test/acordian/2.jpg</td>\n",
       "      <td>acordian</td>\n",
       "      <td>test</td>\n",
       "    </tr>\n",
       "    <tr>\n",
       "      <th>4795</th>\n",
       "      <td>test/acordian/3.jpg</td>\n",
       "      <td>acordian</td>\n",
       "      <td>test</td>\n",
       "    </tr>\n",
       "    <tr>\n",
       "      <th>4796</th>\n",
       "      <td>test/acordian/4.jpg</td>\n",
       "      <td>acordian</td>\n",
       "      <td>test</td>\n",
       "    </tr>\n",
       "    <tr>\n",
       "      <th>4797</th>\n",
       "      <td>test/acordian/5.jpg</td>\n",
       "      <td>acordian</td>\n",
       "      <td>test</td>\n",
       "    </tr>\n",
       "  </tbody>\n",
       "</table>\n",
       "</div>"
      ],
      "text/plain": [
       "                filepaths    labels data set\n",
       "4793  test/acordian/1.jpg  acordian     test\n",
       "4794  test/acordian/2.jpg  acordian     test\n",
       "4795  test/acordian/3.jpg  acordian     test\n",
       "4796  test/acordian/4.jpg  acordian     test\n",
       "4797  test/acordian/5.jpg  acordian     test"
      ]
     },
     "execution_count": 6,
     "metadata": {},
     "output_type": "execute_result"
    }
   ],
   "source": [
    "test_df.head()"
   ]
  },
  {
   "cell_type": "code",
   "execution_count": 7,
   "id": "110591c9",
   "metadata": {},
   "outputs": [],
   "source": [
    "transform = transforms.Compose([        # Defining a variable transforms\n",
    "transforms.Resize(256),                # Resize the image to 256×256 pixels\n",
    "transforms.CenterCrop(224),            # Crop the image to 224×224 pixels about the center\n",
    "transforms.ToTensor(),                 # Convert the image to PyTorch Tensor data type\n",
    "transforms.Normalize(                  # Normalize the image\n",
    "mean=[0.485, 0.456, 0.406],            # Mean and std of image as also used when training the network\n",
    "std=[0.229, 0.224, 0.225]      \n",
    ")])"
   ]
  },
  {
   "cell_type": "code",
   "execution_count": 8,
   "id": "59927410",
   "metadata": {},
   "outputs": [],
   "source": [
    "train_imgs = []\n",
    "test_imgs = []"
   ]
  },
  {
   "cell_type": "code",
   "execution_count": 9,
   "id": "c0b9a219",
   "metadata": {},
   "outputs": [],
   "source": [
    "for filepath in train_df['filepaths']:\n",
    "    \n",
    "    filepath = \"archive/\" + str(filepath)\n",
    "    img = Image.open(filepath)\n",
    "    transformed_img = transform(img)\n",
    "    batch_img = torch.unsqueeze(transformed_img, 0)\n",
    "    train_imgs.append(batch_img)\n",
    "    "
   ]
  },
  {
   "cell_type": "code",
   "execution_count": 10,
   "id": "a78bc152",
   "metadata": {},
   "outputs": [],
   "source": [
    "for filepath in test_df['filepaths']:\n",
    "    filepath = \"archive/\" + str(filepath)\n",
    "    img = Image.open(filepath)\n",
    "    transformed_img = transform(img)\n",
    "    batch_img = torch.unsqueeze(transformed_img, 0)\n",
    "    test_imgs.append(batch_img)\n",
    "    "
   ]
  },
  {
   "cell_type": "code",
   "execution_count": 11,
   "id": "215df869",
   "metadata": {},
   "outputs": [
    {
     "name": "stdout",
     "output_type": "stream",
     "text": [
      "torch.Size([1, 3, 224, 224])\n",
      "torch.Size([1, 3, 224, 224])\n"
     ]
    }
   ],
   "source": [
    "print(train_imgs[0].shape)\n",
    "print(test_imgs[0].shape)"
   ]
  },
  {
   "cell_type": "code",
   "execution_count": 12,
   "id": "1d7132ab",
   "metadata": {},
   "outputs": [
    {
     "data": {
      "text/plain": [
       "AlexNet(\n",
       "  (features): Sequential(\n",
       "    (0): Conv2d(3, 64, kernel_size=(11, 11), stride=(4, 4), padding=(2, 2))\n",
       "    (1): ReLU(inplace=True)\n",
       "    (2): MaxPool2d(kernel_size=3, stride=2, padding=0, dilation=1, ceil_mode=False)\n",
       "    (3): Conv2d(64, 192, kernel_size=(5, 5), stride=(1, 1), padding=(2, 2))\n",
       "    (4): ReLU(inplace=True)\n",
       "    (5): MaxPool2d(kernel_size=3, stride=2, padding=0, dilation=1, ceil_mode=False)\n",
       "    (6): Conv2d(192, 384, kernel_size=(3, 3), stride=(1, 1), padding=(1, 1))\n",
       "    (7): ReLU(inplace=True)\n",
       "    (8): Conv2d(384, 256, kernel_size=(3, 3), stride=(1, 1), padding=(1, 1))\n",
       "    (9): ReLU(inplace=True)\n",
       "    (10): Conv2d(256, 256, kernel_size=(3, 3), stride=(1, 1), padding=(1, 1))\n",
       "    (11): ReLU(inplace=True)\n",
       "    (12): MaxPool2d(kernel_size=3, stride=2, padding=0, dilation=1, ceil_mode=False)\n",
       "  )\n",
       "  (avgpool): AdaptiveAvgPool2d(output_size=(6, 6))\n",
       "  (classifier): Sequential(\n",
       "    (0): Dropout(p=0.5, inplace=False)\n",
       "    (1): Linear(in_features=9216, out_features=4096, bias=True)\n",
       "    (2): ReLU(inplace=True)\n",
       "    (3): Dropout(p=0.5, inplace=False)\n",
       "    (4): Linear(in_features=4096, out_features=4096, bias=True)\n",
       "    (5): ReLU(inplace=True)\n",
       "    (6): Linear(in_features=4096, out_features=1000, bias=True)\n",
       "  )\n",
       ")"
      ]
     },
     "execution_count": 12,
     "metadata": {},
     "output_type": "execute_result"
    }
   ],
   "source": [
    "alexnet = models.alexnet(pretrained = True)\n",
    "alexnet.eval()"
   ]
  },
  {
   "cell_type": "code",
   "execution_count": 13,
   "id": "932c2ec8",
   "metadata": {},
   "outputs": [],
   "source": [
    "train_features = []\n",
    "test_features = []"
   ]
  },
  {
   "cell_type": "code",
   "execution_count": 14,
   "id": "7f7c647a",
   "metadata": {},
   "outputs": [],
   "source": [
    "for img in train_imgs:\n",
    "    with torch.no_grad():\n",
    "        feature = alexnet(img).detach().numpy()\n",
    "    train_features.append(feature)"
   ]
  },
  {
   "cell_type": "code",
   "execution_count": 15,
   "id": "deb4f6d0",
   "metadata": {},
   "outputs": [],
   "source": [
    "for img in test_imgs:\n",
    "    with torch.no_grad():\n",
    "        feature = alexnet(img).detach().numpy()\n",
    "    test_features.append(feature)"
   ]
  },
  {
   "cell_type": "code",
   "execution_count": 16,
   "id": "53c2b410",
   "metadata": {},
   "outputs": [
    {
     "data": {
      "text/plain": [
       "(1, 1000)"
      ]
     },
     "execution_count": 16,
     "metadata": {},
     "output_type": "execute_result"
    }
   ],
   "source": [
    "train_features[0].shape"
   ]
  },
  {
   "cell_type": "code",
   "execution_count": 17,
   "id": "6ea02551",
   "metadata": {},
   "outputs": [
    {
     "name": "stdout",
     "output_type": "stream",
     "text": [
      "4674\n",
      "4674\n"
     ]
    }
   ],
   "source": [
    "print(len(train_features))\n",
    "print(len(train_labels))"
   ]
  },
  {
   "cell_type": "code",
   "execution_count": 18,
   "id": "43b7d25e",
   "metadata": {},
   "outputs": [
    {
     "name": "stdout",
     "output_type": "stream",
     "text": [
      "145\n",
      "145\n"
     ]
    }
   ],
   "source": [
    "print(len(test_features))\n",
    "print(len(test_labels))"
   ]
  },
  {
   "cell_type": "code",
   "execution_count": 19,
   "id": "f4c5713d",
   "metadata": {},
   "outputs": [],
   "source": [
    "for i in range(len(train_features)):\n",
    "    train_features[i] = train_features[i].T.reshape((1000,))"
   ]
  },
  {
   "cell_type": "code",
   "execution_count": 20,
   "id": "3e68c410",
   "metadata": {},
   "outputs": [
    {
     "data": {
      "text/plain": [
       "(4674, 1000)"
      ]
     },
     "execution_count": 20,
     "metadata": {},
     "output_type": "execute_result"
    }
   ],
   "source": [
    "train_features1 = np.array(train_features)\n",
    "train_features1.shape"
   ]
  },
  {
   "cell_type": "code",
   "execution_count": 21,
   "id": "cb58cf8d",
   "metadata": {},
   "outputs": [],
   "source": [
    "for i in range(len(test_features)):\n",
    "    test_features[i] = test_features[i].T.reshape((1000,))"
   ]
  },
  {
   "cell_type": "markdown",
   "id": "c59787a4",
   "metadata": {},
   "source": [
    "## Model Prediction"
   ]
  },
  {
   "cell_type": "code",
   "execution_count": 22,
   "id": "fca6f476",
   "metadata": {},
   "outputs": [
    {
     "data": {
      "text/plain": [
       "SVC(C=0.0005, class_weight='balanced', kernel='linear')"
      ]
     },
     "execution_count": 22,
     "metadata": {},
     "output_type": "execute_result"
    }
   ],
   "source": [
    "from sklearn import svm\n",
    "model = svm.SVC(C=0.0005,kernel='linear', class_weight='balanced', gamma='scale')\n",
    "model.fit(train_features,train_labels)"
   ]
  },
  {
   "cell_type": "code",
   "execution_count": 23,
   "id": "edc8ac8c",
   "metadata": {},
   "outputs": [
    {
     "name": "stdout",
     "output_type": "stream",
     "text": [
      "0.9862068965517241\n"
     ]
    }
   ],
   "source": [
    "acc = model.score(test_features,test_labels)\n",
    "print(acc)"
   ]
  },
  {
   "cell_type": "code",
   "execution_count": 24,
   "id": "be3f4198",
   "metadata": {},
   "outputs": [
    {
     "name": "stderr",
     "output_type": "stream",
     "text": [
      "/Users/sivahitesh/opt/anaconda3/lib/python3.8/site-packages/sklearn/linear_model/_logistic.py:763: ConvergenceWarning: lbfgs failed to converge (status=1):\n",
      "STOP: TOTAL NO. of ITERATIONS REACHED LIMIT.\n",
      "\n",
      "Increase the number of iterations (max_iter) or scale the data as shown in:\n",
      "    https://scikit-learn.org/stable/modules/preprocessing.html\n",
      "Please also refer to the documentation for alternative solver options:\n",
      "    https://scikit-learn.org/stable/modules/linear_model.html#logistic-regression\n",
      "  n_iter_i = _check_optimize_result(\n"
     ]
    },
    {
     "data": {
      "text/plain": [
       "LogisticRegression(max_iter=1000)"
      ]
     },
     "execution_count": 24,
     "metadata": {},
     "output_type": "execute_result"
    }
   ],
   "source": [
    "from sklearn.linear_model import LogisticRegression\n",
    "model_lr = LogisticRegression(max_iter=1000)\n",
    "model_lr.fit(train_features,train_labels)"
   ]
  },
  {
   "cell_type": "code",
   "execution_count": 26,
   "id": "d2cabcf9",
   "metadata": {},
   "outputs": [
    {
     "name": "stdout",
     "output_type": "stream",
     "text": [
      "0.9793103448275862\n"
     ]
    }
   ],
   "source": [
    "acc1 = model_lr.score(test_features,test_labels)\n",
    "print(acc1)"
   ]
  }
 ],
 "metadata": {
  "kernelspec": {
   "display_name": "Python 3 (ipykernel)",
   "language": "python",
   "name": "python3"
  },
  "language_info": {
   "codemirror_mode": {
    "name": "ipython",
    "version": 3
   },
   "file_extension": ".py",
   "mimetype": "text/x-python",
   "name": "python",
   "nbconvert_exporter": "python",
   "pygments_lexer": "ipython3",
   "version": "3.9.7"
  }
 },
 "nbformat": 4,
 "nbformat_minor": 5
}
