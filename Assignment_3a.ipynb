{
 "cells": [
  {
   "cell_type": "code",
   "execution_count": 12,
   "id": "f46e16fd",
   "metadata": {
    "id": "f46e16fd"
   },
   "outputs": [],
   "source": [
    "# conda install pytorch torchvision torchaudio cudatoolkit=11.3 -c pytorch"
   ]
  },
  {
   "cell_type": "markdown",
   "id": "2de98410",
   "metadata": {
    "id": "2de98410"
   },
   "source": [
    "## Importing Libraries"
   ]
  },
  {
   "cell_type": "code",
   "execution_count": 13,
   "id": "8fd924b9",
   "metadata": {
    "id": "8fd924b9"
   },
   "outputs": [],
   "source": [
    "import torch\n",
    "import numpy as np\n",
    "import pandas as pd\n",
    "import matplotlib.pyplot as plt\n",
    "import torch.nn as nn\n",
    "import torch.nn.functional as F\n",
    "from torchvision.datasets import CIFAR10\n",
    "from torchvision.transforms import ToTensor\n",
    "from torch.utils.data.dataloader import DataLoader\n",
    "from torch.utils.data import random_split\n",
    "import seaborn as sns"
   ]
  },
  {
   "cell_type": "code",
   "execution_count": 14,
   "id": "2620889f",
   "metadata": {
    "id": "2620889f"
   },
   "outputs": [],
   "source": [
    "# torch.cuda.is_available()"
   ]
  },
  {
   "cell_type": "code",
   "execution_count": 15,
   "id": "6f49fb2d",
   "metadata": {
    "id": "6f49fb2d"
   },
   "outputs": [],
   "source": [
    "def get_default_device():\n",
    "    \"\"\"Pick GPU if available, else CPU\"\"\"\n",
    "    if torch.cuda.is_available():\n",
    "        return torch.device('cuda')\n",
    "    else:\n",
    "        return torch.device('cpu')\n",
    "\n",
    "def to_device(data, device):\n",
    "    \"\"\"Move tensor(s) to chosen device\"\"\"\n",
    "    if isinstance(data, (list,tuple)):\n",
    "        return [to_device(x, device) for x in data]\n",
    "    return data.to(device, non_blocking=True)\n",
    "\n",
    "class DeviceDataLoader():\n",
    "    \"\"\"Wrap a dataloader to move data to a device\"\"\"\n",
    "    def __init__(self, dl, device):\n",
    "        self.dl = dl\n",
    "        self.device = device\n",
    "\n",
    "    def __iter__(self):\n",
    "        \"\"\"Yield a batch of data after moving it to device\"\"\"\n",
    "        for b in self.dl: \n",
    "            yield to_device(b, self.device)\n",
    "\n",
    "    def __len__(self):\n",
    "        \"\"\"Number of batches\"\"\"\n",
    "        return len(self.dl)"
   ]
  },
  {
   "cell_type": "code",
   "execution_count": 16,
   "id": "d6ecafa4",
   "metadata": {
    "colab": {
     "base_uri": "https://localhost:8080/"
    },
    "id": "d6ecafa4",
    "outputId": "ecd51a98-60ba-41bb-8bb9-7abfc67a383f"
   },
   "outputs": [
    {
     "name": "stdout",
     "output_type": "stream",
     "text": [
      "Files already downloaded and verified\n",
      "No.of images in dataset: 50000\n"
     ]
    }
   ],
   "source": [
    "dataset = CIFAR10(root='./data', download=True, transform=ToTensor())\n",
    "print(f\"No.of images in dataset: {len(dataset)}\")\n",
    "train_ds, val_ds = random_split(dataset, [40000, 10000])\n",
    "batch_size = 128\n",
    "device = get_default_device()\n",
    "\n",
    "train_loader = DataLoader(train_ds, batch_size, shuffle=True, num_workers=2, pin_memory=True)\n",
    "val_loader = DataLoader(val_ds, batch_size*2, num_workers=2, pin_memory=True)\n",
    "\n",
    "train_loader = DeviceDataLoader(train_loader, device)\n",
    "val_loader = DeviceDataLoader(val_loader, device)"
   ]
  },
  {
   "cell_type": "code",
   "execution_count": 17,
   "id": "a2bd3e89",
   "metadata": {
    "id": "a2bd3e89"
   },
   "outputs": [],
   "source": [
    "def accuracy(outputs, labels):\n",
    "    _, preds = torch.max(outputs, dim=1)\n",
    "    return torch.tensor(torch.sum(preds == labels).item() / len(preds))\n",
    "\n",
    "class Cifar10_Model(nn.Module):\n",
    "    \"\"\"Feedfoward neural network with 1 hidden layer\"\"\"\n",
    "    def __init__(self):\n",
    "        super().__init__()\n",
    "        self.network = nn.Sequential(\n",
    "            nn.Conv2d(3, 32, kernel_size=3, padding=1),\n",
    "            nn.ReLU(),\n",
    "            nn.Conv2d(32, 64, kernel_size=3, stride=1, padding=1),\n",
    "            nn.ReLU(),\n",
    "            nn.MaxPool2d(2, 2), # output: 64 x 16 x 16\n",
    "            nn.BatchNorm2d(64),\n",
    "\n",
    "            nn.Flatten(), \n",
    "            nn.Linear(64*16*16, 1024),\n",
    "            nn.ReLU(),\n",
    "            nn.Linear(1024, 512),\n",
    "            nn.ReLU(),\n",
    "            nn.Linear(512, 10)\n",
    "        )\n",
    "\n",
    "    def forward(self, xb):\n",
    "        return self.network(xb)\n",
    "\n",
    "    def training_step(self, batch):\n",
    "        images, labels = batch \n",
    "        out = self(images)                  # Generate predictions\n",
    "        loss = F.cross_entropy(out, labels) # Calculate loss\n",
    "        return loss\n",
    "\n",
    "    def validation_step(self, batch):\n",
    "        images, labels = batch \n",
    "        out = self(images)                    # Generate predictions\n",
    "        loss = F.cross_entropy(out, labels)   # Calculate loss\n",
    "        acc = accuracy(out, labels)           # Calculate accuracy\n",
    "        return {'val_loss': loss, 'val_acc': acc}\n",
    "\n",
    "    def validation_epoch_end(self, outputs):\n",
    "        batch_losses = [x['val_loss'] for x in outputs]\n",
    "        epoch_loss = torch.stack(batch_losses).mean()   # Combine losses\n",
    "        batch_accs = [x['val_acc'] for x in outputs]\n",
    "        epoch_acc = torch.stack(batch_accs).mean()      # Combine accuracies\n",
    "        return {'val_loss': epoch_loss.item(), 'val_acc': epoch_acc.item()}\n",
    "\n",
    "    def epoch_end(self, epoch, result):\n",
    "        print(\"Epoch [{}], val_loss: {:.4f}, val_acc: {:.4f}\".format(epoch, result['val_loss'], result['val_acc']))"
   ]
  },
  {
   "cell_type": "code",
   "execution_count": 18,
   "id": "8174371a",
   "metadata": {
    "id": "8174371a"
   },
   "outputs": [],
   "source": [
    "def evaluate(model, val_loader):\n",
    "    outputs = [model.validation_step(batch) for batch in val_loader]\n",
    "    return model.validation_epoch_end(outputs)\n",
    "\n",
    "def fit(epochs, lr, model, train_loader, val_loader, opt_func=torch.optim.SGD, momentum = 0.0):\n",
    "    history = []\n",
    "    optimizer = opt_func(model.parameters(), lr, momentum)\n",
    "    for epoch in range(epochs):\n",
    "        # Training Phase \n",
    "        for batch in train_loader:\n",
    "            loss = model.training_step(batch)\n",
    "            loss.backward()\n",
    "            optimizer.step()\n",
    "            optimizer.zero_grad()\n",
    "        # Validation phase\n",
    "        result = evaluate(model, val_loader)\n",
    "        model.epoch_end(epoch, result)\n",
    "        history.append(result)\n",
    "        \n",
    "    return history"
   ]
  },
  {
   "cell_type": "code",
   "execution_count": 19,
   "id": "7fc8f2de",
   "metadata": {
    "colab": {
     "base_uri": "https://localhost:8080/"
    },
    "id": "7fc8f2de",
    "outputId": "fb27bde1-c4c8-4817-f786-a150cadfcbdd"
   },
   "outputs": [
    {
     "data": {
      "text/plain": [
       "Cifar10_Model(\n",
       "  (network): Sequential(\n",
       "    (0): Conv2d(3, 32, kernel_size=(3, 3), stride=(1, 1), padding=(1, 1))\n",
       "    (1): ReLU()\n",
       "    (2): Conv2d(32, 64, kernel_size=(3, 3), stride=(1, 1), padding=(1, 1))\n",
       "    (3): ReLU()\n",
       "    (4): MaxPool2d(kernel_size=2, stride=2, padding=0, dilation=1, ceil_mode=False)\n",
       "    (5): BatchNorm2d(64, eps=1e-05, momentum=0.1, affine=True, track_running_stats=True)\n",
       "    (6): Flatten(start_dim=1, end_dim=-1)\n",
       "    (7): Linear(in_features=16384, out_features=1024, bias=True)\n",
       "    (8): ReLU()\n",
       "    (9): Linear(in_features=1024, out_features=512, bias=True)\n",
       "    (10): ReLU()\n",
       "    (11): Linear(in_features=512, out_features=10, bias=True)\n",
       "  )\n",
       ")"
      ]
     },
     "execution_count": 19,
     "metadata": {},
     "output_type": "execute_result"
    }
   ],
   "source": [
    "num_classes = 10\n",
    "model = Cifar10_Model()\n",
    "to_device(model, device)"
   ]
  },
  {
   "cell_type": "code",
   "execution_count": 20,
   "id": "62fc0d37",
   "metadata": {
    "colab": {
     "base_uri": "https://localhost:8080/"
    },
    "id": "62fc0d37",
    "outputId": "3625d6a1-5987-4461-d242-c9d628f496c3"
   },
   "outputs": [
    {
     "data": {
      "text/plain": [
       "{'val_acc': 0.12099609524011612, 'val_loss': 2.298126697540283}"
      ]
     },
     "execution_count": 20,
     "metadata": {},
     "output_type": "execute_result"
    }
   ],
   "source": [
    "evaluate(model, val_loader)"
   ]
  },
  {
   "cell_type": "code",
   "execution_count": 21,
   "id": "f5b3571d",
   "metadata": {
    "id": "f5b3571d"
   },
   "outputs": [],
   "source": [
    "#Hyper parameters for training model\n",
    "num_epochs = 20\n",
    "opt_func=torch.optim.SGD\n",
    "momentum = 0.9 \n",
    "#opt_func = torch.optim.Adam\n",
    "lr = 0.001"
   ]
  },
  {
   "cell_type": "code",
   "execution_count": 22,
   "id": "e275014e",
   "metadata": {
    "colab": {
     "base_uri": "https://localhost:8080/"
    },
    "id": "e275014e",
    "outputId": "592c2c41-c549-408a-ef89-efc95d5f3228"
   },
   "outputs": [
    {
     "name": "stdout",
     "output_type": "stream",
     "text": [
      "Epoch [0], val_loss: 1.4315, val_acc: 0.4837\n",
      "Epoch [1], val_loss: 1.2012, val_acc: 0.5652\n",
      "Epoch [2], val_loss: 1.0472, val_acc: 0.6269\n",
      "Epoch [3], val_loss: 0.9535, val_acc: 0.6670\n",
      "Epoch [4], val_loss: 0.9248, val_acc: 0.6729\n",
      "Epoch [5], val_loss: 0.8981, val_acc: 0.6866\n",
      "Epoch [6], val_loss: 0.8662, val_acc: 0.6962\n",
      "Epoch [7], val_loss: 0.8738, val_acc: 0.6955\n",
      "Epoch [8], val_loss: 0.8710, val_acc: 0.7021\n",
      "Epoch [9], val_loss: 0.8935, val_acc: 0.6994\n",
      "Epoch [10], val_loss: 0.9078, val_acc: 0.7064\n",
      "Epoch [11], val_loss: 0.9335, val_acc: 0.7110\n",
      "Epoch [12], val_loss: 0.9727, val_acc: 0.7060\n",
      "Epoch [13], val_loss: 1.0020, val_acc: 0.7117\n",
      "Epoch [14], val_loss: 1.0328, val_acc: 0.7101\n",
      "Epoch [15], val_loss: 1.0684, val_acc: 0.7112\n",
      "Epoch [16], val_loss: 1.0886, val_acc: 0.7123\n",
      "Epoch [17], val_loss: 1.1182, val_acc: 0.7118\n",
      "Epoch [18], val_loss: 1.1274, val_acc: 0.7124\n",
      "Epoch [19], val_loss: 1.1520, val_acc: 0.7125\n"
     ]
    }
   ],
   "source": [
    "history = fit(num_epochs, lr, model, train_loader, val_loader, opt_func, momentum)"
   ]
  },
  {
   "cell_type": "code",
   "execution_count": 23,
   "id": "41f3662b",
   "metadata": {
    "id": "41f3662b"
   },
   "outputs": [],
   "source": [
    "def plot_accuracies(history):\n",
    "    accuracies = [x['val_acc'] for x in history]\n",
    "    plt.plot(accuracies, '-x')\n",
    "    plt.xlabel('epoch')\n",
    "    plt.ylabel('accuracy')\n",
    "    plt.title('Accuracy vs. No. of epochs');\n",
    "    \n",
    "def plot_losses(history):\n",
    "    train_losses = [x.get('train_loss') for x in history]\n",
    "    val_losses = [x['val_loss'] for x in history]\n",
    "    plt.plot(train_losses, '-bx')\n",
    "    plt.plot(val_losses, '-rx')\n",
    "    plt.xlabel('epoch')\n",
    "    plt.ylabel('loss')\n",
    "    plt.legend(['Training', 'Validation'])\n",
    "    plt.title('Loss vs. No. of epochs');"
   ]
  },
  {
   "cell_type": "code",
   "execution_count": 24,
   "id": "a8944674",
   "metadata": {
    "colab": {
     "base_uri": "https://localhost:8080/",
     "height": 295
    },
    "id": "a8944674",
    "outputId": "880d17ac-3813-4727-e189-117c9c232e75"
   },
   "outputs": [
    {
     "data": {
      "image/png": "[encoded data removed]",
      "text/plain": [
       "<Figure size 432x288 with 1 Axes>"
      ]
     },
     "metadata": {
      "needs_background": "light"
     },
     "output_type": "display_data"
    }
   ],
   "source": [
    "plot_accuracies(history)"
   ]
  },
  {
   "cell_type": "code",
   "execution_count": 25,
   "id": "86babc2c",
   "metadata": {
    "colab": {
     "base_uri": "https://localhost:8080/",
     "height": 295
    },
    "id": "86babc2c",
    "outputId": "6cbfa712-ed31-4444-f843-c807b0a71c75"
   },
   "outputs": [
    {
     "data": {
      "image/png": "[encoded data removed]",
      "text/plain": [
       "<Figure size 432x288 with 1 Axes>"
      ]
     },
     "metadata": {
      "needs_background": "light"
     },
     "output_type": "display_data"
    }
   ],
   "source": [
    "plot_losses(history)"
   ]
  },
  {
   "cell_type": "code",
   "execution_count": 26,
   "id": "3e1e3b24",
   "metadata": {
    "id": "3e1e3b24"
   },
   "outputs": [],
   "source": [
    "def predict_image(img, model):\n",
    "    # Convert to a batch of 1\n",
    "    xb = to_device(img.unsqueeze(0), device)\n",
    "    # Get predictions from model\n",
    "    yb = model(xb)\n",
    "    # Pick index with highest probability\n",
    "    _, preds  = torch.max(yb, dim=1)\n",
    "    # Retrieve the class label\n",
    "    return dataset.classes[preds[0].item()]"
   ]
  },
  {
   "cell_type": "code",
   "execution_count": 27,
   "id": "c4f8b9d1",
   "metadata": {
    "id": "c4f8b9d1"
   },
   "outputs": [],
   "source": [
    "test_ds = CIFAR10(root='./data', train=False, transform=ToTensor())\n",
    "\n",
    "test_loader = DataLoader(test_ds, batch_size)\n",
    "test_loader = DeviceDataLoader(test_loader, device)\n",
    "\n",
    "# result = evaluate(final_model, test_loader)\n",
    "# print(f'Test Accuracy:{result[\"val_acc\"]*100:.2f}%')"
   ]
  },
  {
   "cell_type": "code",
   "execution_count": 28,
   "id": "5660a3e1",
   "metadata": {
    "colab": {
     "base_uri": "https://localhost:8080/",
     "height": 283
    },
    "id": "5660a3e1",
    "outputId": "3f174d6f-9481-4827-ae7a-f1f03f572b6a"
   },
   "outputs": [
    {
     "name": "stdout",
     "output_type": "stream",
     "text": [
      "Label: cat , Predicted: cat\n"
     ]
    },
    {
     "data": {
      "image/png": "[encoded data removed]",
      "text/plain": [
       "<Figure size 432x288 with 1 Axes>"
      ]
     },
     "metadata": {
      "needs_background": "light"
     },
     "output_type": "display_data"
    }
   ],
   "source": [
    "img, label = test_ds[0]\n",
    "plt.imshow(img.permute(1, 2, 0))\n",
    "print('Label:', dataset.classes[label], ', Predicted:', predict_image(img, model))"
   ]
  },
  {
   "cell_type": "code",
   "execution_count": 31,
   "id": "200ef6b7",
   "metadata": {
    "colab": {
     "base_uri": "https://localhost:8080/"
    },
    "id": "200ef6b7",
    "outputId": "840f7d2f-69d9-4249-a1a4-f31a7eac901c"
   },
   "outputs": [
    {
     "data": {
      "text/plain": [
       "{'val_acc': 0.7020371556282043, 'val_loss': 1.203417420387268}"
      ]
     },
     "execution_count": 31,
     "metadata": {},
     "output_type": "execute_result"
    }
   ],
   "source": [
    "result = evaluate(model, test_loader)\n",
    "result\n",
    "# print(f'Test Accuracy:{result[\"val_acc\"]*100:.2f}%')"
   ]
  }
 ],
 "metadata": {
  "accelerator": "GPU",
  "colab": {
   "collapsed_sections": [],
   "name": "CnnCifar10.ipynb",
   "provenance": []
  },
  "kernelspec": {
   "display_name": "Python 3 (ipykernel)",
   "language": "python",
   "name": "python3"
  },
  "language_info": {
   "codemirror_mode": {
    "name": "ipython",
    "version": 3
   },
   "file_extension": ".py",
   "mimetype": "text/x-python",
   "name": "python",
   "nbconvert_exporter": "python",
   "pygments_lexer": "ipython3",
   "version": "3.9.7"
  }
 },
 "nbformat": 4,
 "nbformat_minor": 5
}
